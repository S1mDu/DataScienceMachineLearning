{
 "cells": [
  {
   "cell_type": "code",
   "execution_count": 1,
   "id": "c45993e7",
   "metadata": {},
   "outputs": [],
   "source": [
    "import pandas as pd\n",
    "import numpy as np\n",
    "import matplotlib.pyplot as plt\n",
    "import geopandas as gpd\n",
    "from sklearn.model_selection import train_test_split\n",
    "from sklearn.linear_model import LinearRegression\n",
    "from sklearn.metrics import mean_squared_error, mean_absolute_error, r2_score\n",
    "from sklearn.preprocessing import PolynomialFeatures\n",
    "import statsmodels.api as sm\n",
    "from statsmodels.stats.outliers_influence import variance_inflation_factor"
   ]
  },
  {
   "cell_type": "code",
   "execution_count": 2,
   "id": "b7134366",
   "metadata": {},
   "outputs": [],
   "source": [
    "filepath = 'https://raw.githubusercontent.com/S1mDu/DataScienceMachineLearning/refs/heads/main/Data/Cantonal/'"
   ]
  },
  {
   "cell_type": "markdown",
   "id": "9d659242",
   "metadata": {},
   "source": [
    "# Cantonal Data Analysis"
   ]
  },
  {
   "cell_type": "markdown",
   "id": "6b70d0f0",
   "metadata": {},
   "source": [
    "## Merging the databases"
   ]
  },
  {
   "cell_type": "code",
   "execution_count": 3,
   "id": "241a9cde",
   "metadata": {},
   "outputs": [],
   "source": [
    "df_pop = pd.read_csv(filepath + 'population.csv')\n",
    "df_climate = pd.read_csv(filepath + 'climate_df.csv', sep=';')\n",
    "df_gdp = pd.read_csv(filepath + 'final_GDP.csv')\n",
    "df_pm10 = pd.read_csv(filepath + 'PM10.csv')"
   ]
  },
  {
   "cell_type": "code",
   "execution_count": 4,
   "id": "4dc49f6b",
   "metadata": {},
   "outputs": [],
   "source": [
    "df_pm10.rename(columns={'Value': 'pollution'}, inplace=True)\n",
    "df_gdp.rename(columns={'date': 'year'}, inplace=True)\n",
    "df_pop.drop(columns=['canton'], inplace=True)\n",
    "df_gdp.drop(columns=['canton'], inplace=True)\n",
    "df_pm10.drop(columns=['Samplingpoint', 'Canton'], inplace=True)"
   ]
  },
  {
   "cell_type": "code",
   "execution_count": 5,
   "id": "f78ba856",
   "metadata": {},
   "outputs": [
    {
     "data": {
      "text/plain": [
       "array(['BE_Bern_urban', 'BL_BaselBinningen_suburban', 'BS_Basel_urban',\n",
       "       'GE_Meyrin_suburban', 'LU_Rigi_rural', 'NE_Chaumont_rural',\n",
       "       'TG_Taenikon_rural', 'TI_Lugano_urban', 'VD_Lausanne_urban',\n",
       "       'VS_Saxon_rural', 'ZH_Zuerich_urban'], dtype=object)"
      ]
     },
     "execution_count": 5,
     "metadata": {},
     "output_type": "execute_result"
    }
   ],
   "source": [
    "final_df = pd.merge(df_gdp,df_pop, on=['Name', 'year',], how='left')\n",
    "final_df = pd.merge(final_df,df_pm10, on=['Name', 'year',], how='left')\n",
    "final_df = pd.merge(final_df,df_climate, on=['Name', 'year',], how='left')\n",
    "final_df.Name.unique()"
   ]
  },
  {
   "cell_type": "code",
   "execution_count": 6,
   "id": "c10c9ab6",
   "metadata": {},
   "outputs": [],
   "source": [
    "final_df.sort_values(by=['year', 'Name'], inplace=True)"
   ]
  },
  {
   "cell_type": "code",
   "execution_count": 7,
   "id": "045e3679",
   "metadata": {},
   "outputs": [],
   "source": [
    "# Missing values for Basel stadt so we use the values from Basel Binningen due to the proximity of the two locations\n",
    "final_df.loc[final_df['Name'] == 'BS_Basel_urban', 'temp'] = final_df.loc[final_df['Name'] == 'BL_BaselBinningen_suburban', 'temp'].values\n",
    "final_df.loc[final_df['Name'] == 'BS_Basel_urban', 'precip'] = final_df.loc[final_df['Name'] == 'BL_BaselBinningen_suburban', 'precip'].values"
   ]
  },
  {
   "cell_type": "code",
   "execution_count": 8,
   "id": "8f29e1a4",
   "metadata": {},
   "outputs": [],
   "source": [
    "vhc = pd.read_csv(filepath + 'Final_vhc.csv', index_col=0)"
   ]
  },
  {
   "cell_type": "code",
   "execution_count": 9,
   "id": "ebe04fc5",
   "metadata": {},
   "outputs": [],
   "source": [
    "vhc.drop(columns=['pop', 'pollution', 'temp', 'precip', 'GDP'], inplace=True)"
   ]
  },
  {
   "cell_type": "code",
   "execution_count": 10,
   "id": "2139cea5",
   "metadata": {},
   "outputs": [],
   "source": [
    "data = pd.merge(final_df, vhc, how='left', on=['Name', 'year'])"
   ]
  },
  {
   "cell_type": "code",
   "execution_count": 11,
   "id": "f6bf6364",
   "metadata": {},
   "outputs": [],
   "source": [
    "data.rename(columns={\"% EV vs Fossil\":\"EVshare\", 'Electricity':'EV', 'Fossil': 'ICE'}, inplace=True)"
   ]
  },
  {
   "cell_type": "code",
   "execution_count": 12,
   "id": "fe8aec45",
   "metadata": {},
   "outputs": [],
   "source": [
    "df = data.copy()"
   ]
  },
  {
   "cell_type": "markdown",
   "id": "db3079fb",
   "metadata": {},
   "source": [
    "## Dealing with last missing values"
   ]
  },
  {
   "cell_type": "code",
   "execution_count": 13,
   "id": "df3c3d74",
   "metadata": {},
   "outputs": [],
   "source": [
    "# Replace missing pollution values in 2015 with the mean of 2014 and 2016 for the same canton\n",
    "def fill_missing_pollution(df):\n",
    "    for canton in df['Canton'].unique():\n",
    "        mask_2015 = (df['year'] == 2015) & (df['Canton'] == canton)\n",
    "        mask_2014 = (df['year'] == 2014) & (df['Canton'] == canton)\n",
    "        mask_2016 = (df['year'] == 2016) & (df['Canton'] == canton)\n",
    "        \n",
    "        if mask_2015.any():\n",
    "            mean_pollution = df.loc[mask_2014, 'pollution'].mean() + df.loc[mask_2016, 'pollution'].mean()\n",
    "            mean_pollution /= 2\n",
    "            df.loc[mask_2015, 'pollution'] = df.loc[mask_2015, 'pollution'].fillna(mean_pollution)\n",
    "\n",
    "fill_missing_pollution(df)"
   ]
  },
  {
   "cell_type": "code",
   "execution_count": 14,
   "id": "0f0cf782",
   "metadata": {},
   "outputs": [],
   "source": [
    "# Replace missing pollution values in 2015 with the mean of 2014 and 2016 for the same canton\n",
    "def fill_missing_pollution(df):\n",
    "    for canton in df['Canton'].unique():\n",
    "        mask_2017 = (df['year'] == 2017) & (df['Canton'] == canton)\n",
    "        mask_2016 = (df['year'] == 2014) & (df['Canton'] == canton)\n",
    "        mask_2018 = (df['year'] == 2018) & (df['Canton'] == canton)\n",
    "        \n",
    "        if mask_2017.any():\n",
    "            mean_pollution = df.loc[mask_2016, 'pollution'].mean() + df.loc[mask_2018, 'pollution'].mean()\n",
    "            mean_pollution /= 2\n",
    "            df.loc[mask_2017, 'pollution'] = df.loc[mask_2017, 'pollution'].fillna(mean_pollution)\n",
    "\n",
    "fill_missing_pollution(df)"
   ]
  },
  {
   "cell_type": "code",
   "execution_count": 15,
   "id": "82c21ce6",
   "metadata": {},
   "outputs": [],
   "source": [
    "dict_cfullname = {\n",
    "    'GE':'Genève',\n",
    "    'TG':'Thurgau',\n",
    "    'VS':'Valais',\n",
    "    'AG':'Aargau', \n",
    "    'SZ':'Schwyz',\n",
    "    'ZH':'Zürich',\n",
    "    'OW':'Obwalden',\n",
    "    'FR':'Fribourg',\n",
    "    'GL':'Glarus',\n",
    "    'UR':'Uri',\n",
    "    'NW':'Nidwalden',\n",
    "    'SO':'Solothurn',\n",
    "    'AE':'Appenzell Ausserrhoden',\n",
    "    'JU':'Jura',\n",
    "    'GR':'Graubünden',\n",
    "    'VD':'Vaud',\n",
    "    'LU':'Luzern',\n",
    "    'TI':'Ticino',\n",
    "    'ZG':'Zug',\n",
    "    'BL':'Basel-Landschaft',\n",
    "    'SG':'St. Gallen',\n",
    "    'SH':'Schaffhausen',\n",
    "    'BE':'Bern',\n",
    "    'BS':'Basel-Stadt',\n",
    "    'NE':'Neuchâtel',\n",
    "    'AI':'Appenzell Innerrhoden'\n",
    "}"
   ]
  },
  {
   "cell_type": "code",
   "execution_count": 16,
   "id": "6ac06d9c",
   "metadata": {},
   "outputs": [],
   "source": [
    "df['CantFName'] = df['Canton'].map(dict_cfullname)"
   ]
  },
  {
   "cell_type": "markdown",
   "id": "4026284e",
   "metadata": {},
   "source": [
    "## Swiss map with cantons"
   ]
  },
  {
   "cell_type": "markdown",
   "id": "9e0117e9",
   "metadata": {},
   "source": [
    "As we need to load the file in local in order to run it. The Swiss map section is commented. Please download the swissmap assets in Github to generate it."
   ]
  },
  {
   "cell_type": "code",
   "execution_count": 17,
   "id": "f1214229",
   "metadata": {},
   "outputs": [
    {
     "data": {
      "text/plain": [
       "\"# Load a shapefile of Switzerland (you can find shapefiles online, e.g., from Natural Earth or Swiss government sources)\\nswitzerland_map = gpd.read_file(filepath + 'swissBOUNDARIES3D_1_5_TLM_KANTONSGEBIET.shp')\\n\\n# List of cantons you have data for\\ncantons_with_data = df['CantFName'].unique()\""
      ]
     },
     "execution_count": 17,
     "metadata": {},
     "output_type": "execute_result"
    }
   ],
   "source": [
    "'''# Load a shapefile of Switzerland (you can find shapefiles online, e.g., from Natural Earth or Swiss government sources)\n",
    "switzerland_map = gpd.read_file(filepath + 'swissBOUNDARIES3D_1_5_TLM_KANTONSGEBIET.shp')\n",
    "\n",
    "# List of cantons you have data for\n",
    "cantons_with_data = df['CantFName'].unique()'''"
   ]
  },
  {
   "cell_type": "code",
   "execution_count": 18,
   "id": "0202e366",
   "metadata": {},
   "outputs": [
    {
     "data": {
      "text/plain": [
       "\"# Highlight the cantons\\nswitzerland_map['highlight'] = switzerland_map['NAME'].apply(lambda x: x in cantons_with_data)\\n\\n# Plot the map\\nfig, ax = plt.subplots(figsize=(10, 8))\\nswitzerland_map.plot(ax=ax, color='white', edgecolor='black')\\nswitzerland_map[switzerland_map['highlight']].plot(ax=ax, color='red', edgecolor='black', label='Highlighted Cantons')\\nax.axis('off')  # Hide the axis\\n# Add legend and title\\n#plt.legend()\\n#plt.title('Available Cantons')\\nplt.savefig(perso_filepath + 'available_cantons.png', transparent=True)  # Save with transparent background\\nplt.show()\""
      ]
     },
     "execution_count": 18,
     "metadata": {},
     "output_type": "execute_result"
    }
   ],
   "source": [
    "'''# Highlight the cantons\n",
    "switzerland_map['highlight'] = switzerland_map['NAME'].apply(lambda x: x in cantons_with_data)\n",
    "\n",
    "# Plot the map\n",
    "fig, ax = plt.subplots(figsize=(10, 8))\n",
    "switzerland_map.plot(ax=ax, color='white', edgecolor='black')\n",
    "switzerland_map[switzerland_map['highlight']].plot(ax=ax, color='red', edgecolor='black', label='Highlighted Cantons')\n",
    "ax.axis('off')  # Hide the axis\n",
    "# Add legend and title\n",
    "#plt.legend()\n",
    "#plt.title('Available Cantons')\n",
    "plt.savefig(perso_filepath + 'available_cantons.png', transparent=True)  # Save with transparent background\n",
    "plt.show()'''"
   ]
  },
  {
   "cell_type": "code",
   "execution_count": 19,
   "id": "5673072d",
   "metadata": {},
   "outputs": [],
   "source": [
    "df = df[(df['year'] >=2014) & (df['year'] <= 2023)]"
   ]
  },
  {
   "cell_type": "code",
   "execution_count": 20,
   "id": "66bdaaff",
   "metadata": {},
   "outputs": [],
   "source": [
    "df['logpop'] = np.log(df['pop'])"
   ]
  },
  {
   "cell_type": "markdown",
   "id": "64b04f34",
   "metadata": {},
   "source": [
    "# Machine Learning Analysis"
   ]
  },
  {
   "cell_type": "code",
   "execution_count": 21,
   "id": "026d128a",
   "metadata": {},
   "outputs": [
    {
     "data": {
      "text/plain": [
       "year         0\n",
       "GDP          0\n",
       "Name         0\n",
       "pop          0\n",
       "pollution    0\n",
       "temp         0\n",
       "precip       0\n",
       "Canton       0\n",
       "EVshare      0\n",
       "EV           0\n",
       "ICE          0\n",
       "CantFName    0\n",
       "logpop       0\n",
       "dtype: int64"
      ]
     },
     "execution_count": 21,
     "metadata": {},
     "output_type": "execute_result"
    }
   ],
   "source": [
    "df.isna().sum()"
   ]
  },
  {
   "cell_type": "markdown",
   "id": "9bc63d19",
   "metadata": {},
   "source": [
    "## Cantons Urbains"
   ]
  },
  {
   "cell_type": "code",
   "execution_count": 22,
   "id": "d7638b3c",
   "metadata": {},
   "outputs": [],
   "source": [
    "df_vaud = df[df['Canton'].isin(['BE', 'BS', 'VD', 'ZH'])]"
   ]
  },
  {
   "cell_type": "code",
   "execution_count": 23,
   "id": "053b5ae2",
   "metadata": {},
   "outputs": [
    {
     "data": {
      "text/plain": [
       "\"# Load a shapefile of Switzerland (you can find shapefiles online, e.g., from Natural Earth or Swiss government sources)\\nswitzerland_map = gpd.read_file('C:/Users/simon/OneDrive/Bureau/Shapefile/swissBOUNDARIES3D_1_5_TLM_KANTONSGEBIET.shp')\\n\\n# List of cantons you have data for\\ncantons_with_data = ['Bern', 'Basel-Stadt', 'Vaud', 'Zürich']\\n\\n\\nprint(switzerland_map.columns, switzerland_map.NAME.unique())\\ndisplay(switzerland_map.head())\\nprint(cantons_with_data)\\n\\n# Highlight the cantons\\nswitzerland_map['highlight'] = switzerland_map['NAME'].apply(lambda x: x in cantons_with_data)\\n\\n# Plot the map\\nfig, ax = plt.subplots(figsize=(10, 8))\\nswitzerland_map.plot(ax=ax, color='white', edgecolor='black')\\nswitzerland_map[switzerland_map['highlight']].plot(ax=ax, color='red', edgecolor='black', label='Highlighted Cantons')\\nax.axis('off')  # Hide the axis\\n# Add legend and title\\n#plt.legend()\\n#plt.title('Available Cantons')\\nplt.show()\""
      ]
     },
     "execution_count": 23,
     "metadata": {},
     "output_type": "execute_result"
    }
   ],
   "source": [
    "'''# Load a shapefile of Switzerland (you can find shapefiles online, e.g., from Natural Earth or Swiss government sources)\n",
    "switzerland_map = gpd.read_file('C:/Users/simon/OneDrive/Bureau/Shapefile/swissBOUNDARIES3D_1_5_TLM_KANTONSGEBIET.shp')\n",
    "\n",
    "# List of cantons you have data for\n",
    "cantons_with_data = ['Bern', 'Basel-Stadt', 'Vaud', 'Zürich']\n",
    "\n",
    "\n",
    "print(switzerland_map.columns, switzerland_map.NAME.unique())\n",
    "display(switzerland_map.head())\n",
    "print(cantons_with_data)\n",
    "\n",
    "# Highlight the cantons\n",
    "switzerland_map['highlight'] = switzerland_map['NAME'].apply(lambda x: x in cantons_with_data)\n",
    "\n",
    "# Plot the map\n",
    "fig, ax = plt.subplots(figsize=(10, 8))\n",
    "switzerland_map.plot(ax=ax, color='white', edgecolor='black')\n",
    "switzerland_map[switzerland_map['highlight']].plot(ax=ax, color='red', edgecolor='black', label='Highlighted Cantons')\n",
    "ax.axis('off')  # Hide the axis\n",
    "# Add legend and title\n",
    "#plt.legend()\n",
    "#plt.title('Available Cantons')\n",
    "plt.show()'''"
   ]
  },
  {
   "cell_type": "code",
   "execution_count": 24,
   "id": "66a91b6b",
   "metadata": {},
   "outputs": [
    {
     "name": "stdout",
     "output_type": "stream",
     "text": [
      "MSE: 6.953519734349857\n",
      "MAE: 2.2287958015330767\n"
     ]
    },
    {
     "name": "stderr",
     "output_type": "stream",
     "text": [
      "c:\\Users\\simon\\anaconda3\\Lib\\site-packages\\sklearn\\base.py:493: UserWarning: X does not have valid feature names, but PolynomialFeatures was fitted with feature names\n",
      "  warnings.warn(\n"
     ]
    },
    {
     "data": {
      "image/png": "[encoded data removed]",
      "text/plain": [
       "<Figure size 640x480 with 1 Axes>"
      ]
     },
     "metadata": {},
     "output_type": "display_data"
    }
   ],
   "source": [
    "# 2. Define X and y\n",
    "X = df_vaud[['EVshare']]\n",
    "y = df_vaud[['pollution']]\n",
    "\n",
    "# 3. Transform features into polynomial (degree = 2)\n",
    "poly = PolynomialFeatures(degree=2)\n",
    "X_poly = poly.fit_transform(X)\n",
    "\n",
    "# 4. Split the data\n",
    "X_train, X_test, y_train, y_test = train_test_split(X_poly, y, test_size=0.2, random_state=0)\n",
    "\n",
    "# 5. Fit the model\n",
    "model = LinearRegression()\n",
    "model.fit(X_train, y_train)\n",
    "\n",
    "# 6. Predict and evaluate\n",
    "y_pred = model.predict(X_test)\n",
    "\n",
    "print(\"MSE:\", mean_squared_error(y_test, y_pred))\n",
    "print(\"MAE:\", mean_absolute_error(y_test, y_pred))\n",
    "\n",
    "# 7. Plot the curve\n",
    "x_range = np.linspace(X['EVshare'].min(), X['EVshare'].max(), 100).reshape(-1, 1)\n",
    "x_range_poly = poly.transform(x_range)\n",
    "y_range_pred = model.predict(x_range_poly)\n",
    "\n",
    "plt.scatter(X, y, label='PM10')\n",
    "plt.plot(x_range, y_range_pred, color='red', label='Polynomial Fit (deg=2)')\n",
    "plt.xlabel('EV share')\n",
    "plt.ylabel('PM10')\n",
    "plt.title('Urban Cantons: EV % vs PM10 Emissions')\n",
    "plt.legend()\n",
    "plt.show()"
   ]
  },
  {
   "cell_type": "code",
   "execution_count": 25,
   "id": "a11118de",
   "metadata": {},
   "outputs": [
    {
     "name": "stdout",
     "output_type": "stream",
     "text": [
      "MSE: 6.590456111474634\n",
      "MAE: 2.2140200393231924\n"
     ]
    }
   ],
   "source": [
    "# Define features and target\n",
    "X = df_vaud[['EVshare', 'logpop', 'temp', 'precip', 'GDP']]\n",
    "y = df_vaud[['pollution']]\n",
    "\n",
    "# Train-test split\n",
    "X_train, X_test, y_train, y_test = train_test_split(X, y, test_size=0.2, random_state=0)\n",
    "\n",
    "# Fit model\n",
    "model = LinearRegression()\n",
    "model.fit(X_train, y_train)\n",
    "\n",
    "# Predict and evaluate\n",
    "y_pred = model.predict(X_test)\n",
    "\n",
    "print(\"MSE:\", mean_squared_error(y_test, y_pred))\n",
    "print(\"MAE:\", mean_absolute_error(y_test, y_pred))"
   ]
  },
  {
   "cell_type": "code",
   "execution_count": 26,
   "id": "1a29f9ec",
   "metadata": {},
   "outputs": [
    {
     "name": "stdout",
     "output_type": "stream",
     "text": [
      "                            OLS Regression Results                            \n",
      "==============================================================================\n",
      "Dep. Variable:              pollution   R-squared:                       0.195\n",
      "Model:                            OLS   Adj. R-squared:                  0.126\n",
      "Method:                 Least Squares   F-statistic:                     6.448\n",
      "Date:                Wed, 21 May 2025   Prob (F-statistic):           7.91e-05\n",
      "Time:                        18:36:18   Log-Likelihood:                -153.35\n",
      "No. Observations:                  64   AIC:                             318.7\n",
      "Df Residuals:                      58   BIC:                             331.7\n",
      "Df Model:                           5                                         \n",
      "Covariance Type:                  HC3                                         \n",
      "==============================================================================\n",
      "                 coef    std err          z      P>|z|      [0.025      0.975]\n",
      "------------------------------------------------------------------------------\n",
      "const          5.5648     14.078      0.395      0.693     -22.027      33.157\n",
      "EVshare       -1.3367      0.321     -4.164      0.000      -1.966      -0.707\n",
      "logpop        -0.0533      0.537     -0.099      0.921      -1.106       0.999\n",
      "temp           1.3721      1.030      1.332      0.183      -0.647       3.391\n",
      "precip         0.0046      0.004      1.140      0.254      -0.003       0.012\n",
      "GDP           -0.0614      0.187     -0.328      0.743      -0.429       0.306\n",
      "==============================================================================\n",
      "Omnibus:                       25.410   Durbin-Watson:                   1.167\n",
      "Prob(Omnibus):                  0.000   Jarque-Bera (JB):               40.130\n",
      "Skew:                           1.474   Prob(JB):                     1.93e-09\n",
      "Kurtosis:                       5.521   Cond. No.                     4.24e+04\n",
      "==============================================================================\n",
      "\n",
      "Notes:\n",
      "[1] Standard Errors are heteroscedasticity robust (HC3)\n",
      "[2] The condition number is large, 4.24e+04. This might indicate that there are\n",
      "strong multicollinearity or other numerical problems.\n",
      "  Variable          VIF\n",
      "0    const  1533.221419\n",
      "1  EVshare     1.447503\n",
      "2   logpop     1.749608\n",
      "3     temp     2.089458\n",
      "4   precip     1.858867\n",
      "5      GDP     1.856830\n"
     ]
    }
   ],
   "source": [
    "X = df_vaud[['EVshare', 'logpop', 'temp', 'precip', 'GDP']]\n",
    "X_const = sm.add_constant(X)\n",
    "y = df_vaud['pollution']\n",
    "\n",
    "model = sm.OLS(y, X_const).fit(cov_type='HC3')\n",
    "print(model.summary())\n",
    "\n",
    "vif_df = pd.DataFrame()\n",
    "vif_df['Variable'] = X_const.columns\n",
    "vif_df['VIF'] = [variance_inflation_factor(X_const.values, i) for i in range(X_const.shape[1])]\n",
    "print(vif_df)"
   ]
  },
  {
   "cell_type": "markdown",
   "id": "7d7ea668",
   "metadata": {},
   "source": [
    "## Cantons Suburban"
   ]
  },
  {
   "cell_type": "code",
   "execution_count": 27,
   "id": "e0dc42a9",
   "metadata": {},
   "outputs": [],
   "source": [
    "df_lucerne = df[df['Canton'].isin(['BL', 'GE'])]"
   ]
  },
  {
   "cell_type": "code",
   "execution_count": 28,
   "id": "81e73b94",
   "metadata": {},
   "outputs": [
    {
     "data": {
      "text/plain": [
       "\"# Load a shapefile of Switzerland (you can find shapefiles online, e.g., from Natural Earth or Swiss government sources)\\nswitzerland_map = gpd.read_file('C:/Users/simon/OneDrive/Bureau/Shapefile/swissBOUNDARIES3D_1_5_TLM_KANTONSGEBIET.shp')\\n\\n# List of cantons you have data for\\ncantons_with_data = ['Basel-Landschaft', 'Genève']\\n\\n\\nprint(switzerland_map.columns, switzerland_map.NAME.unique())\\ndisplay(switzerland_map.head())\\nprint(cantons_with_data)\\n\\n# Highlight the cantons\\nswitzerland_map['highlight'] = switzerland_map['NAME'].apply(lambda x: x in cantons_with_data)\\n\\n# Plot the map\\nfig, ax = plt.subplots(figsize=(10, 8))\\nswitzerland_map.plot(ax=ax, color='white', edgecolor='black')\\nswitzerland_map[switzerland_map['highlight']].plot(ax=ax, color='red', edgecolor='black', label='Highlighted Cantons')\\nax.axis('off')  # Hide the axis\\n# Add legend and title\\n#plt.legend()\\n#plt.title('Available Cantons')\\nplt.show()\""
      ]
     },
     "execution_count": 28,
     "metadata": {},
     "output_type": "execute_result"
    }
   ],
   "source": [
    "'''# Load a shapefile of Switzerland (you can find shapefiles online, e.g., from Natural Earth or Swiss government sources)\n",
    "switzerland_map = gpd.read_file('C:/Users/simon/OneDrive/Bureau/Shapefile/swissBOUNDARIES3D_1_5_TLM_KANTONSGEBIET.shp')\n",
    "\n",
    "# List of cantons you have data for\n",
    "cantons_with_data = ['Basel-Landschaft', 'Genève']\n",
    "\n",
    "\n",
    "print(switzerland_map.columns, switzerland_map.NAME.unique())\n",
    "display(switzerland_map.head())\n",
    "print(cantons_with_data)\n",
    "\n",
    "# Highlight the cantons\n",
    "switzerland_map['highlight'] = switzerland_map['NAME'].apply(lambda x: x in cantons_with_data)\n",
    "\n",
    "# Plot the map\n",
    "fig, ax = plt.subplots(figsize=(10, 8))\n",
    "switzerland_map.plot(ax=ax, color='white', edgecolor='black')\n",
    "switzerland_map[switzerland_map['highlight']].plot(ax=ax, color='red', edgecolor='black', label='Highlighted Cantons')\n",
    "ax.axis('off')  # Hide the axis\n",
    "# Add legend and title\n",
    "#plt.legend()\n",
    "#plt.title('Available Cantons')\n",
    "plt.show()'''"
   ]
  },
  {
   "cell_type": "code",
   "execution_count": 29,
   "id": "727941a9",
   "metadata": {},
   "outputs": [
    {
     "name": "stdout",
     "output_type": "stream",
     "text": [
      "MSE: 2.888858312687512\n",
      "MAE: 1.579640962690144\n",
      "R² Score: 0.17811322511795358\n"
     ]
    },
    {
     "name": "stderr",
     "output_type": "stream",
     "text": [
      "c:\\Users\\simon\\anaconda3\\Lib\\site-packages\\sklearn\\base.py:493: UserWarning: X does not have valid feature names, but PolynomialFeatures was fitted with feature names\n",
      "  warnings.warn(\n"
     ]
    },
    {
     "data": {
      "image/png": "[encoded data removed]",
      "text/plain": [
       "<Figure size 640x480 with 1 Axes>"
      ]
     },
     "metadata": {},
     "output_type": "display_data"
    }
   ],
   "source": [
    "X = df_lucerne[['EVshare']]\n",
    "y = df_lucerne[['pollution']]\n",
    "\n",
    "# 3. Transform features into polynomial (degree = 2)\n",
    "poly = PolynomialFeatures(degree=2)\n",
    "X_poly = poly.fit_transform(X)\n",
    "\n",
    "# 4. Split the data\n",
    "X_train, X_test, y_train, y_test = train_test_split(X_poly, y, test_size=0.2, random_state=0)\n",
    "\n",
    "# 5. Fit the model\n",
    "model = LinearRegression()\n",
    "model.fit(X_train, y_train)\n",
    "\n",
    "# 6. Predict and evaluate\n",
    "y_pred = model.predict(X_test)\n",
    "\n",
    "print(\"MSE:\", mean_squared_error(y_test, y_pred))\n",
    "print(\"MAE:\", mean_absolute_error(y_test, y_pred))\n",
    "print(\"R² Score:\", r2_score(y_test, y_pred))\n",
    "\n",
    "# 7. Plot the curve\n",
    "x_range = np.linspace(X['EVshare'].min(), X['EVshare'].max(), 100).reshape(-1, 1)\n",
    "x_range_poly = poly.transform(x_range)\n",
    "y_range_pred = model.predict(x_range_poly)\n",
    "\n",
    "plt.scatter(X, y, label='PM10')\n",
    "plt.plot(x_range, y_range_pred, color='red', label='Polynomial Fit (deg=2)')\n",
    "plt.xlabel('EV share')\n",
    "plt.ylabel('PM10')\n",
    "plt.title('Suburban Cantons: EV % vs PM10 Emissions')\n",
    "plt.legend()\n",
    "plt.show()"
   ]
  },
  {
   "cell_type": "code",
   "execution_count": 30,
   "id": "a41b208b",
   "metadata": {},
   "outputs": [
    {
     "name": "stdout",
     "output_type": "stream",
     "text": [
      "MSE: 11.057463307225786\n",
      "MAE: 2.9264783172259383\n"
     ]
    }
   ],
   "source": [
    "# Define features and target\n",
    "X = df_lucerne[['EVshare', 'logpop', 'temp', 'precip', 'GDP']]\n",
    "y = df_lucerne[['pollution']]\n",
    "\n",
    "# Train-test split\n",
    "from sklearn.model_selection import train_test_split\n",
    "X_train, X_test, y_train, y_test = train_test_split(X, y, test_size=0.2, random_state=0)\n",
    "\n",
    "# Fit model\n",
    "from sklearn.linear_model import LinearRegression\n",
    "model = LinearRegression()\n",
    "model.fit(X_train, y_train)\n",
    "\n",
    "# Predict and evaluate\n",
    "from sklearn.metrics import mean_squared_error, mean_absolute_error, r2_score\n",
    "y_pred = model.predict(X_test)\n",
    "\n",
    "print(\"MSE:\", mean_squared_error(y_test, y_pred))\n",
    "print(\"MAE:\", mean_absolute_error(y_test, y_pred))"
   ]
  },
  {
   "cell_type": "code",
   "execution_count": 31,
   "id": "b2fe9750",
   "metadata": {},
   "outputs": [
    {
     "data": {
      "text/plain": [
       "'# Define features and target\\nX = df_lucerne[[\\'EVshare\\', \\'logpop\\', \\'temp\\', \\'precip\\', \\'GDP\\']]\\ny = df_lucerne[[\\'pollution\\']]\\n\\n# Train-test split\\npoly = PolynomialFeatures(degree=2)\\nX_poly = poly.fit_transform(X)\\n\\n# 4. Split the data\\nX_train, X_test, y_train, y_test = train_test_split(X_poly, y, test_size=0.2, random_state=0)\\n\\n# 5. Fit the model\\nmodel = LinearRegression()\\nmodel.fit(X_train, y_train)\\n\\n# 6. Predict and evaluate\\ny_pred = model.predict(X_test)\\n\\nprint(\"MSE:\", mean_squared_error(y_test, y_pred))\\nprint(\"MAE:\", mean_absolute_error(y_test, y_pred))\\nprint(\"R² Score:\", r2_score(y_test, y_pred))'"
      ]
     },
     "execution_count": 31,
     "metadata": {},
     "output_type": "execute_result"
    }
   ],
   "source": [
    "'''# Define features and target\n",
    "X = df_lucerne[['EVshare', 'logpop', 'temp', 'precip', 'GDP']]\n",
    "y = df_lucerne[['pollution']]\n",
    "\n",
    "# Train-test split\n",
    "poly = PolynomialFeatures(degree=2)\n",
    "X_poly = poly.fit_transform(X)\n",
    "\n",
    "# 4. Split the data\n",
    "X_train, X_test, y_train, y_test = train_test_split(X_poly, y, test_size=0.2, random_state=0)\n",
    "\n",
    "# 5. Fit the model\n",
    "model = LinearRegression()\n",
    "model.fit(X_train, y_train)\n",
    "\n",
    "# 6. Predict and evaluate\n",
    "y_pred = model.predict(X_test)\n",
    "\n",
    "print(\"MSE:\", mean_squared_error(y_test, y_pred))\n",
    "print(\"MAE:\", mean_absolute_error(y_test, y_pred))\n",
    "print(\"R² Score:\", r2_score(y_test, y_pred))'''"
   ]
  },
  {
   "cell_type": "code",
   "execution_count": 32,
   "id": "4d5e2c97",
   "metadata": {},
   "outputs": [
    {
     "name": "stdout",
     "output_type": "stream",
     "text": [
      "                            OLS Regression Results                            \n",
      "==============================================================================\n",
      "Dep. Variable:              pollution   R-squared:                       0.555\n",
      "Model:                            OLS   Adj. R-squared:                  0.396\n",
      "Method:                 Least Squares   F-statistic:                     1.176\n",
      "Date:                Wed, 21 May 2025   Prob (F-statistic):              0.369\n",
      "Time:                        18:36:19   Log-Likelihood:                -32.397\n",
      "No. Observations:                  20   AIC:                             76.79\n",
      "Df Residuals:                      14   BIC:                             82.77\n",
      "Df Model:                           5                                         \n",
      "Covariance Type:                  HC3                                         \n",
      "==============================================================================\n",
      "                 coef    std err          z      P>|z|      [0.025      0.975]\n",
      "------------------------------------------------------------------------------\n",
      "const        -25.8808     21.866     -1.184      0.237     -68.738      16.977\n",
      "EVshare       -1.5377      0.947     -1.623      0.105      -3.394       0.319\n",
      "logpop         2.6867      1.970      1.364      0.173      -1.174       6.547\n",
      "temp           1.0609      1.150      0.923      0.356      -1.193       3.315\n",
      "precip         0.0003      0.003      0.096      0.923      -0.006       0.007\n",
      "GDP            0.2230      0.200      1.114      0.265      -0.169       0.615\n",
      "==============================================================================\n",
      "Omnibus:                        1.669   Durbin-Watson:                   1.654\n",
      "Prob(Omnibus):                  0.434   Jarque-Bera (JB):                1.405\n",
      "Skew:                           0.521   Prob(JB):                        0.495\n",
      "Kurtosis:                       2.224   Cond. No.                     6.21e+04\n",
      "==============================================================================\n",
      "\n",
      "Notes:\n",
      "[1] Standard Errors are heteroscedasticity robust (HC3)\n",
      "[2] The condition number is large, 6.21e+04. This might indicate that there are\n",
      "strong multicollinearity or other numerical problems.\n",
      "  Variable          VIF\n",
      "0    const  2612.377487\n",
      "1  EVshare     1.654261\n",
      "2   logpop     1.564513\n",
      "3     temp     2.059072\n",
      "4   precip     1.922132\n",
      "5      GDP     1.111813\n"
     ]
    }
   ],
   "source": [
    "X = df_lucerne[['EVshare', 'logpop', 'temp', 'precip', 'GDP']]\n",
    "X_const = sm.add_constant(X)\n",
    "y = df_lucerne['pollution']\n",
    "\n",
    "model = sm.OLS(y, X_const).fit(cov_type='HC3')\n",
    "print(model.summary())\n",
    "\n",
    "vif_df = pd.DataFrame()\n",
    "vif_df['Variable'] = X_const.columns\n",
    "vif_df['VIF'] = [variance_inflation_factor(X_const.values, i) for i in range(X_const.shape[1])]\n",
    "print(vif_df)"
   ]
  },
  {
   "cell_type": "markdown",
   "id": "1090ed7e",
   "metadata": {},
   "source": [
    "# Canton Ruraux"
   ]
  },
  {
   "cell_type": "code",
   "execution_count": 33,
   "id": "8d8b161d",
   "metadata": {},
   "outputs": [],
   "source": [
    "df_geneve = df[df['Canton'].isin(['LU', 'NE', 'TG', 'VS'])]"
   ]
  },
  {
   "cell_type": "code",
   "execution_count": 34,
   "id": "327c2654",
   "metadata": {},
   "outputs": [
    {
     "data": {
      "text/plain": [
       "\"# Load a shapefile of Switzerland (you can find shapefiles online, e.g., from Natural Earth or Swiss government sources)\\nswitzerland_map = gpd.read_file('C:/Users/simon/OneDrive/Bureau/Shapefile/swissBOUNDARIES3D_1_5_TLM_KANTONSGEBIET.shp')\\n\\n# List of cantons you have data for\\ncantons_with_data = ['Luzern', 'Neuchâtel', 'Thurgau', 'Valais']\\n\\n\\nprint(switzerland_map.columns, switzerland_map.NAME.unique())\\ndisplay(switzerland_map.head())\\nprint(cantons_with_data)\\n\\n# Highlight the cantons\\nswitzerland_map['highlight'] = switzerland_map['NAME'].apply(lambda x: x in cantons_with_data)\\n\\n# Plot the map\\nfig, ax = plt.subplots(figsize=(10, 8))\\nswitzerland_map.plot(ax=ax, color='white', edgecolor='black')\\nswitzerland_map[switzerland_map['highlight']].plot(ax=ax, color='red', edgecolor='black', label='Highlighted Cantons')\\nax.axis('off')  # Hide the axis\\n# Add legend and title\\n#plt.legend()\\n#plt.title('Available Cantons')\\nplt.show()\""
      ]
     },
     "execution_count": 34,
     "metadata": {},
     "output_type": "execute_result"
    }
   ],
   "source": [
    "'''# Load a shapefile of Switzerland (you can find shapefiles online, e.g., from Natural Earth or Swiss government sources)\n",
    "switzerland_map = gpd.read_file('C:/Users/simon/OneDrive/Bureau/Shapefile/swissBOUNDARIES3D_1_5_TLM_KANTONSGEBIET.shp')\n",
    "\n",
    "# List of cantons you have data for\n",
    "cantons_with_data = ['Luzern', 'Neuchâtel', 'Thurgau', 'Valais']\n",
    "\n",
    "\n",
    "print(switzerland_map.columns, switzerland_map.NAME.unique())\n",
    "display(switzerland_map.head())\n",
    "print(cantons_with_data)\n",
    "\n",
    "# Highlight the cantons\n",
    "switzerland_map['highlight'] = switzerland_map['NAME'].apply(lambda x: x in cantons_with_data)\n",
    "\n",
    "# Plot the map\n",
    "fig, ax = plt.subplots(figsize=(10, 8))\n",
    "switzerland_map.plot(ax=ax, color='white', edgecolor='black')\n",
    "switzerland_map[switzerland_map['highlight']].plot(ax=ax, color='red', edgecolor='black', label='Highlighted Cantons')\n",
    "ax.axis('off')  # Hide the axis\n",
    "# Add legend and title\n",
    "#plt.legend()\n",
    "#plt.title('Available Cantons')\n",
    "plt.show()'''"
   ]
  },
  {
   "cell_type": "code",
   "execution_count": 35,
   "id": "663df784",
   "metadata": {},
   "outputs": [
    {
     "name": "stdout",
     "output_type": "stream",
     "text": [
      "MSE: 13.28918747614274\n",
      "MAE: 3.397269128058392\n",
      "R² Score: -0.05241598514878376\n"
     ]
    },
    {
     "name": "stderr",
     "output_type": "stream",
     "text": [
      "c:\\Users\\simon\\anaconda3\\Lib\\site-packages\\sklearn\\base.py:493: UserWarning: X does not have valid feature names, but PolynomialFeatures was fitted with feature names\n",
      "  warnings.warn(\n"
     ]
    },
    {
     "data": {
      "image/png": "[encoded data removed]",
      "text/plain": [
       "<Figure size 640x480 with 1 Axes>"
      ]
     },
     "metadata": {},
     "output_type": "display_data"
    }
   ],
   "source": [
    "# 2. Define X and y\n",
    "X = df_geneve[['EVshare']]\n",
    "y = df_geneve[['pollution']]\n",
    "\n",
    "# 3. Transform features into polynomial (degree = 2)\n",
    "poly = PolynomialFeatures(degree=2)\n",
    "X_poly = poly.fit_transform(X)\n",
    "\n",
    "# 4. Split the data\n",
    "X_train, X_test, y_train, y_test = train_test_split(X_poly, y, test_size=0.2, random_state=0)\n",
    "\n",
    "# 5. Fit the model\n",
    "model = LinearRegression()\n",
    "model.fit(X_train, y_train)\n",
    "\n",
    "# 6. Predict and evaluate\n",
    "y_pred = model.predict(X_test)\n",
    "\n",
    "print(\"MSE:\", mean_squared_error(y_test, y_pred))\n",
    "print(\"MAE:\", mean_absolute_error(y_test, y_pred))\n",
    "print(\"R² Score:\", r2_score(y_test, y_pred))\n",
    "\n",
    "# 7. Plot the curve\n",
    "x_range = np.linspace(X['EVshare'].min(), X['EVshare'].max(), 100).reshape(-1, 1)\n",
    "x_range_poly = poly.transform(x_range)\n",
    "y_range_pred = model.predict(x_range_poly)\n",
    "\n",
    "plt.scatter(X, y, label='PM10')\n",
    "plt.plot(x_range, y_range_pred, color='red', label='Polynomial Fit (deg=2)')\n",
    "plt.xlabel('EV share')\n",
    "plt.ylabel('PM10')\n",
    "plt.title('Rural Cantons: EV % vs PM10 Emissions')\n",
    "plt.legend()\n",
    "plt.show()\n",
    "\n"
   ]
  },
  {
   "cell_type": "code",
   "execution_count": 36,
   "id": "d9592c35",
   "metadata": {},
   "outputs": [
    {
     "name": "stdout",
     "output_type": "stream",
     "text": [
      "MSE: 1.9889981218867243\n",
      "MAE: 1.1948549424404562\n"
     ]
    }
   ],
   "source": [
    "# Define features and target\n",
    "X = df_geneve[['EVshare', 'logpop', 'temp', 'precip', 'GDP']]\n",
    "y = df_geneve[['pollution']]\n",
    "\n",
    "# Train-test split\n",
    "X_train, X_test, y_train, y_test = train_test_split(X, y, test_size=0.2, random_state=0)\n",
    "\n",
    "# Fit model\n",
    "model = LinearRegression()\n",
    "model.fit(X_train, y_train)\n",
    "\n",
    "# Predict and evaluate\n",
    "y_pred = model.predict(X_test)\n",
    "\n",
    "print(\"MSE:\", mean_squared_error(y_test, y_pred))\n",
    "print(\"MAE:\", mean_absolute_error(y_test, y_pred))"
   ]
  },
  {
   "cell_type": "code",
   "execution_count": 37,
   "id": "80a70a2c",
   "metadata": {},
   "outputs": [
    {
     "name": "stdout",
     "output_type": "stream",
     "text": [
      "                            OLS Regression Results                            \n",
      "==============================================================================\n",
      "Dep. Variable:              pollution   R-squared:                       0.720\n",
      "Model:                            OLS   Adj. R-squared:                  0.678\n",
      "Method:                 Least Squares   F-statistic:                     26.71\n",
      "Date:                Wed, 21 May 2025   Prob (F-statistic):           7.15e-11\n",
      "Time:                        18:36:19   Log-Likelihood:                -79.188\n",
      "No. Observations:                  40   AIC:                             170.4\n",
      "Df Residuals:                      34   BIC:                             180.5\n",
      "Df Model:                           5                                         \n",
      "Covariance Type:                  HC3                                         \n",
      "==============================================================================\n",
      "                 coef    std err          z      P>|z|      [0.025      0.975]\n",
      "------------------------------------------------------------------------------\n",
      "const         -4.2897     15.223     -0.282      0.778     -34.126      25.546\n",
      "EVshare        0.9013      0.621      1.452      0.147      -0.316       2.118\n",
      "logpop         3.3609      0.992      3.387      0.001       1.416       5.306\n",
      "temp          -2.3160      0.828     -2.796      0.005      -3.940      -0.692\n",
      "precip        -0.0120      0.001    -10.239      0.000      -0.014      -0.010\n",
      "GDP           -0.1342      0.094     -1.424      0.155      -0.319       0.051\n",
      "==============================================================================\n",
      "Omnibus:                        0.690   Durbin-Watson:                   1.377\n",
      "Prob(Omnibus):                  0.708   Jarque-Bera (JB):                0.237\n",
      "Skew:                           0.177   Prob(JB):                        0.888\n",
      "Kurtosis:                       3.133   Cond. No.                     5.20e+04\n",
      "==============================================================================\n",
      "\n",
      "Notes:\n",
      "[1] Standard Errors are heteroscedasticity robust (HC3)\n",
      "[2] The condition number is large, 5.2e+04. This might indicate that there are\n",
      "strong multicollinearity or other numerical problems.\n",
      "  Variable          VIF\n",
      "0    const  2259.736372\n",
      "1  EVshare     1.675040\n",
      "2   logpop     1.098888\n",
      "3     temp     1.921053\n",
      "4   precip     1.103089\n",
      "5      GDP     1.379365\n"
     ]
    }
   ],
   "source": [
    "X = df_geneve[['EVshare', 'logpop', 'temp', 'precip', 'GDP']]\n",
    "X_const = sm.add_constant(X)\n",
    "y = df_geneve['pollution']\n",
    "\n",
    "model = sm.OLS(y, X_const).fit(cov_type='HC3')\n",
    "print(model.summary())\n",
    "\n",
    "vif_df = pd.DataFrame()\n",
    "vif_df['Variable'] = X_const.columns\n",
    "vif_df['VIF'] = [variance_inflation_factor(X_const.values, i) for i in range(X_const.shape[1])]\n",
    "print(vif_df)"
   ]
  },
  {
   "cell_type": "markdown",
   "id": "9ed64b89",
   "metadata": {},
   "source": [
    "# Consumption-based Emissions"
   ]
  },
  {
   "cell_type": "code",
   "execution_count": 38,
   "id": "51a0ec55",
   "metadata": {},
   "outputs": [],
   "source": [
    "consumed_co2 = pd.read_csv(\"https://ourworldindata.org/grapher/production-vs-consumption-co2-emissions.csv?v=1&csvType=filtered&useColumnShortNames=true&time=1988..latest&country=~CHE\", storage_options = {'User-Agent': 'Our World In Data data fetch/1.0'}) "
   ]
  },
  {
   "cell_type": "code",
   "execution_count": 39,
   "id": "95a51ba1",
   "metadata": {},
   "outputs": [
    {
     "data": {
      "text/html": [
       "<div>\n",
       "<style scoped>\n",
       "    .dataframe tbody tr th:only-of-type {\n",
       "        vertical-align: middle;\n",
       "    }\n",
       "\n",
       "    .dataframe tbody tr th {\n",
       "        vertical-align: top;\n",
       "    }\n",
       "\n",
       "    .dataframe thead th {\n",
       "        text-align: right;\n",
       "    }\n",
       "</style>\n",
       "<table border=\"1\" class=\"dataframe\">\n",
       "  <thead>\n",
       "    <tr style=\"text-align: right;\">\n",
       "      <th></th>\n",
       "      <th>Entity</th>\n",
       "      <th>Code</th>\n",
       "      <th>Year</th>\n",
       "      <th>emissions_total</th>\n",
       "      <th>consumption_emissions</th>\n",
       "    </tr>\n",
       "  </thead>\n",
       "  <tbody>\n",
       "    <tr>\n",
       "      <th>0</th>\n",
       "      <td>Switzerland</td>\n",
       "      <td>CHE</td>\n",
       "      <td>1988</td>\n",
       "      <td>40636268</td>\n",
       "      <td>NaN</td>\n",
       "    </tr>\n",
       "    <tr>\n",
       "      <th>1</th>\n",
       "      <td>Switzerland</td>\n",
       "      <td>CHE</td>\n",
       "      <td>1989</td>\n",
       "      <td>39388684</td>\n",
       "      <td>NaN</td>\n",
       "    </tr>\n",
       "  </tbody>\n",
       "</table>\n",
       "</div>"
      ],
      "text/plain": [
       "        Entity Code  Year  emissions_total  consumption_emissions\n",
       "0  Switzerland  CHE  1988         40636268                    NaN\n",
       "1  Switzerland  CHE  1989         39388684                    NaN"
      ]
     },
     "execution_count": 39,
     "metadata": {},
     "output_type": "execute_result"
    }
   ],
   "source": [
    "consumed_co2.head(2)"
   ]
  },
  {
   "cell_type": "code",
   "execution_count": 40,
   "id": "f8e25fb4",
   "metadata": {},
   "outputs": [
    {
     "data": {
      "image/png": "[encoded data removed]",
      "text/plain": [
       "<Figure size 1000x600 with 1 Axes>"
      ]
     },
     "metadata": {},
     "output_type": "display_data"
    }
   ],
   "source": [
    "plt.figure(figsize=(10,6))\n",
    "plt.plot(consumed_co2['Year'], consumed_co2['emissions_total'], label='Total CO2 Emissions in Switzerland')\n",
    "plt.plot(consumed_co2['Year'], consumed_co2['consumption_emissions'], label='Consumption-based CO2 emissions')\n",
    "\n",
    "plt.xlabel('Year')\n",
    "plt.ylabel('Mt of CO2 emissions')\n",
    "\n",
    "plt.title('Total Switzerland emissions and consumption-based emissions')\n",
    "plt.legend()\n",
    "plt.show()"
   ]
  }
 ],
 "metadata": {
  "kernelspec": {
   "display_name": "base",
   "language": "python",
   "name": "python3"
  },
  "language_info": {
   "codemirror_mode": {
    "name": "ipython",
    "version": 3
   },
   "file_extension": ".py",
   "mimetype": "text/x-python",
   "name": "python",
   "nbconvert_exporter": "python",
   "pygments_lexer": "ipython3",
   "version": "3.12.4"
  }
 },
 "nbformat": 4,
 "nbformat_minor": 5
}
